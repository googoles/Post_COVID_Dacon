{
 "cells": [
  {
   "cell_type": "markdown",
   "metadata": {
    "pycharm": {
     "name": "#%% md\n"
    }
   },
   "source": [
    "# 서울지역 포스트 코로나 교육 지출 분석\n",
    "\n",
    "\n",
    "<img src=\"https://file.mk.co.kr/meet/yonhap/2020/03/10/image_readtop_2020_249816_0_140906.jpg\">\n",
    "\n",
    "## 분석 배경 및 동기\n",
    "\n",
    "2020년 1월 20일 첫 확진자가 나온 이후로 현재까지 전 세계적으로 수많은 사람들이 고통받고 목숨을 잃었습니다.\n",
    "코로나 19에 대한 예방책으로 많은 기업은 원격 근무를 도입하였으며, 학교 또한 휴교를 결정하였었습니다.\n",
    "하지만 코로나 19는 한국의 사교육 열풍에 어떠한 제동도 걸지 못하였고 오히려 학교 수업의 공백으로 인한\n",
    "교육을 제공하는 것으로 급가속 페달을 밟았습니다. 코로나 19시대의 교육에 대한 데이터를 카드 지출\n",
    " 및 빈도를 통해 분석하였습니다.\n",
    "\n",
    "[관련 기사](http://news.khan.co.kr/kh_news/khan_art_view.html?art_id=202003242114015)\n"
   ]
  },
  {
   "cell_type": "markdown",
   "metadata": {},
   "source": [
    "### 서울 지역 카드 매출 추출\n",
    "card.csv라는 파일을 통해 결제 날짜, 지역, 지역코드, 업종, 지출액 등의 정보가 있다는 것을 발견하였습니다.\n",
    "카드 지출 업종 데이터를 묶어보았습니다."
   ]
  },
  {
   "cell_type": "code",
   "execution_count": 1,
   "metadata": {
    "pycharm": {
     "name": "#%%\n"
    }
   },
   "outputs": [],
   "source": [
    "import numpy as np\n",
    "import pandas as pd\n",
    "import matplotlib\n",
    "matplotlib.rcParams['axes.unicode_minus'] = False\n",
    "from matplotlib import font_manager, rc\n",
    "import platform\n",
    "import warnings\n",
    "warnings.filterwarnings(action='ignore')\n",
    "import matplotlib.pyplot as plt\n",
    "%matplotlib inline\n",
    "font_name = font_manager.FontProperties(fname = 'C:/Windows/Fonts/malgun.ttf').get_name()\n",
    "rc('font', family = font_name)\n",
    "expense = pd.read_csv('Dataset/card.csv') # Card 데이터 불러오기"
   ]
  },
  {
   "cell_type": "markdown",
   "metadata": {
    "pycharm": {
     "name": "#%% md\n"
    }
   },
   "source": [
    "card.csv에는 수많은 업종을 포함하고있는데 이를 한번에 보기위해 unique()를 사용하였습니다."
   ]
  },
  {
   "cell_type": "code",
   "execution_count": 2,
   "metadata": {
    "pycharm": {
     "name": "#%%\n"
    },
    "scrolled": true
   },
   "outputs": [
    {
     "data": {
      "text/plain": [
       "array(['약국', '치과의원', '한의원', '의원', '자동차정비', '기타 교육', '보습학원', '일반 서적', '정장',\n",
       "       '슈퍼 마켓', '편 의 점', '기타레져업', '노래방', '당구장', '헬스 크럽', '스포츠레져용품',\n",
       "       '기계 공구', '기타건축자재', '기타음료식품', '농축수산품', '정 육 점', '제과점', '스넥', '주점',\n",
       "       '서양음식', '중국음식', '일식회집', '일반한식', '화 장 품', '미 용 원', '주 차 장', '화   원',\n",
       "       '비 영 리', '레져업소(회원제형태)', '예체능학원', '문구용 품', '사진관', '단란주점', '악세 사리',\n",
       "       '기타숙박업', '세탁소', '유흥주점', '안경', '유아원', '기타잡화', '인터넷종합Mall', '대형할인점',\n",
       "       '애완 동물', '학원(회원제형태)', '사무서비스', '독서실', '외국어학원', '피부미용실',\n",
       "       '자사카드발행백화점', '영화관', '신   발', '내의판매점', '목재', '칵테일바', '기타대인서비스',\n",
       "       '동물병원', '사무통신기기수리', '기타사무용품', '통신 기기', '출판인쇄물', '가전 제품', '기타유통업',\n",
       "       '농축수산가공품', '종합용역', '병원', '기타가구', '자동차부품', '주 유 소', '안마/스포츠마사지',\n",
       "       '스크린골프', '의료 용품', '조세서비스(특약)', '조세서비스', '기타서적문구', '인터넷Mall',\n",
       "       '인터넷P/G', '기타전문점', '기타회원제형태업소4', '가정용품수리', '법률회계서비스(법인)', '소프트웨어',\n",
       "       '부동산중개/임대', '화물 운송', '혼례서비스', '기타건강식', '주류판매점', '위탁급식업', '사우나',\n",
       "       '미용 재료', '컴퓨터학원', '기타의류', '상품권', '골프연습장', '골프 용품', '관광여행', '유류 판매',\n",
       "       '스포츠의류', '특급 호텔', '귀 금 속', '맞춤복 점', '건축요업품', '기타전기제품', '일반 가구',\n",
       "       '가   방', 'CATV홈쇼핑', '종합병원', '침구수예점', '민예공예품', '법률회계서비스(개인)',\n",
       "       '악 기 점', '전자(상우회)', '컴 퓨 터', '완 구 점', '구내매점(국가기관등)', '택   시',\n",
       "       '자동차시트/타이어', '기타용역서비스', '홍삼 제품', '페 인 트', '보일러펌프샷시', '윤활유전문판매',\n",
       "       '조명 기구', '세 차 장', '과학기자재', '미곡상', '항 공 사', '주방 용구', '수입자동차',\n",
       "       '아동의류', '이 용 원', '기능학원', '인삼 제품', '한약방', '제 화 점', '기타직물', '화방표구점',\n",
       "       '주방용식기', '인테 리어', '카페트', '옷감 직물', '이륜차판매', '카 메 라', '기념품 점',\n",
       "       '상품권 전문판매', '음반', '1급 호텔', '전자상거래 상품권 전문판매', '보훈', '수 족 관', '티켓',\n",
       "       '서적출판(회원제형태)', '시   계', '화   랑', '전문 서적', '기타의료기관및기타의료기기', '2급 호텔',\n",
       "       '문화취미기타', '성인용품점', '손해 보험', 'PG 상품권', '면 세 점', '비씨카드정산용(할인)',\n",
       "       '기타수리서비스', '생명 보험', '통신판매(일반)', '사무 기기', '신변잡화수리', '비영리/비대상',\n",
       "       '양 품 점', '이동통신요금', '장례서비스', '카인테리어', 'L P G', '테니스 장', '유치원',\n",
       "       '볼 링 장', '수 영 장', '기타회원제형태업소1', '보관창고업', '치과병원', '렌 트 카', '산후조리원',\n",
       "       '냉열 기기', '기타광학품', '초중고교육기관', '농', '한방병원', '유   리', '학습지교육',\n",
       "       '정 수 기', '전자상거래 상품권', '건강식품(회원제형태)', '기타보험', '레져용품수리', '정기간행물',\n",
       "       '제약회사', '통신판매1', '갈비전문점', '통신서비스/비대상', '공공요금/대상', '정보서비스', '단체복',\n",
       "       '통신서비스', '종합레져타운', '여 객 선', '사무서비스(회원제형태)', '연 쇄 점', '견인서비스',\n",
       "       '기타교통수단', '기타회원제형태업소3', '한정식', '철제 가구', '위성방송', '일반백화점', '부동산분양',\n",
       "       '국산 신차', '전기차충전소', '국산신차직영부품/정비업소', '공무원연금매점', '사업자미등록개인',\n",
       "       '기타비영리유통', '기타주방용구', '기타연료', '농기계', '비료/농약/사료/종자', '고속 버스',\n",
       "       '공공 요금', '자동차서비스(회원제형태)', '와이셔츠/타이', '캐쥬얼의류', '유학원', 'CATV',\n",
       "       '기타자동차서비스', '건강진단', '중장비수리', '골프경기장', '외국인전용가맹점', '카지노', '대학등록금',\n",
       "       '중고자동차', '통신판매2', '기타회원제형태업소5', '조산원', '스 키 장', '교육테이프', '골동품 점',\n",
       "       '철   도', '기타 운송', '콘   도', '피아노대리점', '혼수전문점', '기타회원제형태업소2',\n",
       "       '기타농업관련', '자체물품대금', '통신판매(생활서비스)', '통신기기무이자할부', '총포류판매', '택시회사',\n",
       "       'P2P송금', '중고자동차위탁판매'], dtype=object)"
      ]
     },
     "execution_count": 2,
     "metadata": {},
     "output_type": "execute_result"
    }
   ],
   "source": [
    "expense['mrhst_induty_cl_nm'].unique() #업종 확인"
   ]
  },
  {
   "cell_type": "markdown",
   "metadata": {
    "pycharm": {
     "name": "#%% md\n"
    }
   },
   "source": [
    "### 교육 업종별 조건 설정\n",
    "각 조건을 다음과 같이 나타내었습니다. 대표적으로 모든 학원을 포함하였으며, 우선 사교육 지출 빈도를 계산하기위해\n",
    "초중고 교육기관 조건을 제외하여 sales_academy라는 변수에 저장하였습니다."
   ]
  },
  {
   "cell_type": "code",
   "execution_count": 3,
   "metadata": {
    "pycharm": {
     "is_executing": true,
     "name": "#%%\n"
    }
   },
   "outputs": [
    {
     "data": {
      "text/html": [
       "<div>\n",
       "<style scoped>\n",
       "    .dataframe tbody tr th:only-of-type {\n",
       "        vertical-align: middle;\n",
       "    }\n",
       "\n",
       "    .dataframe tbody tr th {\n",
       "        vertical-align: top;\n",
       "    }\n",
       "\n",
       "    .dataframe thead th {\n",
       "        text-align: right;\n",
       "    }\n",
       "</style>\n",
       "<table border=\"1\" class=\"dataframe\">\n",
       "  <thead>\n",
       "    <tr style=\"text-align: right;\">\n",
       "      <th></th>\n",
       "      <th>receipt_dttm</th>\n",
       "      <th>adstrd_code</th>\n",
       "      <th>adstrd_nm</th>\n",
       "      <th>mrhst_induty_cl_code</th>\n",
       "      <th>mrhst_induty_cl_nm</th>\n",
       "      <th>selng_cascnt</th>\n",
       "      <th>salamt</th>\n",
       "    </tr>\n",
       "  </thead>\n",
       "  <tbody>\n",
       "    <tr>\n",
       "      <th>6</th>\n",
       "      <td>20200104</td>\n",
       "      <td>1174066000</td>\n",
       "      <td>성내3동</td>\n",
       "      <td>5105</td>\n",
       "      <td>보습학원</td>\n",
       "      <td>12</td>\n",
       "      <td>3876000</td>\n",
       "    </tr>\n",
       "    <tr>\n",
       "      <th>58</th>\n",
       "      <td>20200104</td>\n",
       "      <td>1174064000</td>\n",
       "      <td>성내1동</td>\n",
       "      <td>5105</td>\n",
       "      <td>보습학원</td>\n",
       "      <td>10</td>\n",
       "      <td>3532000</td>\n",
       "    </tr>\n",
       "    <tr>\n",
       "      <th>59</th>\n",
       "      <td>20200104</td>\n",
       "      <td>1174064000</td>\n",
       "      <td>성내1동</td>\n",
       "      <td>5104</td>\n",
       "      <td>예체능학원</td>\n",
       "      <td>9</td>\n",
       "      <td>1930000</td>\n",
       "    </tr>\n",
       "    <tr>\n",
       "      <th>142</th>\n",
       "      <td>20200104</td>\n",
       "      <td>1174059000</td>\n",
       "      <td>암사3동</td>\n",
       "      <td>9305</td>\n",
       "      <td>학원(회원제형태)</td>\n",
       "      <td>33</td>\n",
       "      <td>8088600</td>\n",
       "    </tr>\n",
       "    <tr>\n",
       "      <th>153</th>\n",
       "      <td>20200104</td>\n",
       "      <td>1174059000</td>\n",
       "      <td>암사3동</td>\n",
       "      <td>5105</td>\n",
       "      <td>보습학원</td>\n",
       "      <td>7</td>\n",
       "      <td>1630000</td>\n",
       "    </tr>\n",
       "  </tbody>\n",
       "</table>\n",
       "</div>"
      ],
      "text/plain": [
       "     receipt_dttm  adstrd_code adstrd_nm  mrhst_induty_cl_code  \\\n",
       "6        20200104   1174066000      성내3동                  5105   \n",
       "58       20200104   1174064000      성내1동                  5105   \n",
       "59       20200104   1174064000      성내1동                  5104   \n",
       "142      20200104   1174059000      암사3동                  9305   \n",
       "153      20200104   1174059000      암사3동                  5105   \n",
       "\n",
       "    mrhst_induty_cl_nm selng_cascnt   salamt  \n",
       "6                 보습학원           12  3876000  \n",
       "58                보습학원           10  3532000  \n",
       "59               예체능학원            9  1930000  \n",
       "142          학원(회원제형태)           33  8088600  \n",
       "153               보습학원            7  1630000  "
      ]
     },
     "execution_count": 3,
     "metadata": {},
     "output_type": "execute_result"
    }
   ],
   "source": [
    "condition_Academy_a = (expense['mrhst_induty_cl_nm'] == \"보습학원\") # 보습학원, 예체능학원, 외국어학원, 학원(회원제형태)\n",
    "condition_Academy_b = (expense['mrhst_induty_cl_nm'] == \"예체능학원\")\n",
    "condition_Academy_c = (expense['mrhst_induty_cl_nm'] == \"외국어학원\")\n",
    "condition_Academy_d = (expense['mrhst_induty_cl_nm'] == \"학원(회원제형태)\")\n",
    "condition_Academy_e = (expense['mrhst_induty_cl_nm'] == \"독서실\")\n",
    "condition_Academy_f = (expense['mrhst_induty_cl_nm'] == \"학습지교육\")\n",
    "condition_Academy_g = (expense['mrhst_induty_cl_nm'] == \"컴퓨터학원\")\n",
    "condition_Academy_h = (expense['mrhst_induty_cl_nm'] == \"기능학원\")\n",
    "# condition_Academy_i = (expense['mrhst_induty_cl_nm'] == \"초중고교육기관\")\n",
    "sales_academy = expense[condition_Academy_a | condition_Academy_b | condition_Academy_c | condition_Academy_d | condition_Academy_e | condition_Academy_f | condition_Academy_g | condition_Academy_h]\n",
    "sales_academy.head() # 처리된 데이터"
   ]
  },
  {
   "cell_type": "code",
   "execution_count": 4,
   "metadata": {
    "pycharm": {
     "is_executing": true,
     "name": "#%%\n"
    }
   },
   "outputs": [
    {
     "name": "stdout",
     "output_type": "stream",
     "text": [
      "<class 'pandas.core.frame.DataFrame'>\n",
      "Int64Index: 150564 entries, 6 to 3777604\n",
      "Data columns (total 7 columns):\n",
      " #   Column                Non-Null Count   Dtype \n",
      "---  ------                --------------   ----- \n",
      " 0   receipt_dttm          150564 non-null  int64 \n",
      " 1   adstrd_code           150564 non-null  int64 \n",
      " 2   adstrd_nm             150564 non-null  object\n",
      " 3   mrhst_induty_cl_code  150564 non-null  int64 \n",
      " 4   mrhst_induty_cl_nm    150564 non-null  object\n",
      " 5   selng_cascnt          150564 non-null  object\n",
      " 6   salamt                150564 non-null  object\n",
      "dtypes: int64(3), object(4)\n",
      "memory usage: 9.2+ MB\n"
     ]
    }
   ],
   "source": [
    "sales_academy.info()"
   ]
  },
  {
   "cell_type": "markdown",
   "metadata": {
    "pycharm": {
     "name": "#%% md\n"
    }
   },
   "source": [
    "### 카드 결제일자 주별로 묶기\n",
    "데이터의 기간인 1월 4일부터 6월 14일은 약 반년의 시간을 가지고있고 총 15만개의 row를 가지고있으므로\n",
    "주 별로 묶어 시각화 하는것이 효과적이므로 일별 결제를 주별로 바꾸었습니다. 데이터는 토요일로 시작해서\n",
    " 다음주 금요일에 끝나는 간격으로 합산하였습니다. receipt_dttm의 날짜형식은 int64값이므로 이를\n",
    " datetime 형식의 데이터로 바꾸는 과정을 취하였습니다."
   ]
  },
  {
   "cell_type": "code",
   "execution_count": 5,
   "metadata": {
    "pycharm": {
     "is_executing": true
    }
   },
   "outputs": [
    {
     "data": {
      "text/html": [
       "<div>\n",
       "<style scoped>\n",
       "    .dataframe tbody tr th:only-of-type {\n",
       "        vertical-align: middle;\n",
       "    }\n",
       "\n",
       "    .dataframe tbody tr th {\n",
       "        vertical-align: top;\n",
       "    }\n",
       "\n",
       "    .dataframe thead th {\n",
       "        text-align: right;\n",
       "    }\n",
       "</style>\n",
       "<table border=\"1\" class=\"dataframe\">\n",
       "  <thead>\n",
       "    <tr style=\"text-align: right;\">\n",
       "      <th></th>\n",
       "      <th>receipt_dttm</th>\n",
       "      <th>adstrd_code</th>\n",
       "      <th>adstrd_nm</th>\n",
       "      <th>mrhst_induty_cl_code</th>\n",
       "      <th>mrhst_induty_cl_nm</th>\n",
       "      <th>selng_cascnt</th>\n",
       "      <th>salamt</th>\n",
       "      <th>all_new_num</th>\n",
       "    </tr>\n",
       "    <tr>\n",
       "      <th>datetime</th>\n",
       "      <th></th>\n",
       "      <th></th>\n",
       "      <th></th>\n",
       "      <th></th>\n",
       "      <th></th>\n",
       "      <th></th>\n",
       "      <th></th>\n",
       "      <th></th>\n",
       "    </tr>\n",
       "  </thead>\n",
       "  <tbody>\n",
       "    <tr>\n",
       "      <th>2020-01-04</th>\n",
       "      <td>20200104</td>\n",
       "      <td>1174066000</td>\n",
       "      <td>성내3동</td>\n",
       "      <td>5105</td>\n",
       "      <td>보습학원</td>\n",
       "      <td>12</td>\n",
       "      <td>3876000</td>\n",
       "      <td>1</td>\n",
       "    </tr>\n",
       "    <tr>\n",
       "      <th>2020-01-04</th>\n",
       "      <td>20200104</td>\n",
       "      <td>1174064000</td>\n",
       "      <td>성내1동</td>\n",
       "      <td>5105</td>\n",
       "      <td>보습학원</td>\n",
       "      <td>10</td>\n",
       "      <td>3532000</td>\n",
       "      <td>1</td>\n",
       "    </tr>\n",
       "    <tr>\n",
       "      <th>2020-01-04</th>\n",
       "      <td>20200104</td>\n",
       "      <td>1174064000</td>\n",
       "      <td>성내1동</td>\n",
       "      <td>5104</td>\n",
       "      <td>예체능학원</td>\n",
       "      <td>9</td>\n",
       "      <td>1930000</td>\n",
       "      <td>1</td>\n",
       "    </tr>\n",
       "    <tr>\n",
       "      <th>2020-01-04</th>\n",
       "      <td>20200104</td>\n",
       "      <td>1174059000</td>\n",
       "      <td>암사3동</td>\n",
       "      <td>9305</td>\n",
       "      <td>학원(회원제형태)</td>\n",
       "      <td>33</td>\n",
       "      <td>8088600</td>\n",
       "      <td>1</td>\n",
       "    </tr>\n",
       "    <tr>\n",
       "      <th>2020-01-04</th>\n",
       "      <td>20200104</td>\n",
       "      <td>1174059000</td>\n",
       "      <td>암사3동</td>\n",
       "      <td>5105</td>\n",
       "      <td>보습학원</td>\n",
       "      <td>7</td>\n",
       "      <td>1630000</td>\n",
       "      <td>1</td>\n",
       "    </tr>\n",
       "  </tbody>\n",
       "</table>\n",
       "</div>"
      ],
      "text/plain": [
       "            receipt_dttm  adstrd_code adstrd_nm  mrhst_induty_cl_code  \\\n",
       "datetime                                                                \n",
       "2020-01-04      20200104   1174066000      성내3동                  5105   \n",
       "2020-01-04      20200104   1174064000      성내1동                  5105   \n",
       "2020-01-04      20200104   1174064000      성내1동                  5104   \n",
       "2020-01-04      20200104   1174059000      암사3동                  9305   \n",
       "2020-01-04      20200104   1174059000      암사3동                  5105   \n",
       "\n",
       "           mrhst_induty_cl_nm selng_cascnt   salamt  all_new_num  \n",
       "datetime                                                          \n",
       "2020-01-04               보습학원           12  3876000            1  \n",
       "2020-01-04               보습학원           10  3532000            1  \n",
       "2020-01-04              예체능학원            9  1930000            1  \n",
       "2020-01-04          학원(회원제형태)           33  8088600            1  \n",
       "2020-01-04               보습학원            7  1630000            1  "
      ]
     },
     "execution_count": 5,
     "metadata": {},
     "output_type": "execute_result"
    }
   ],
   "source": [
    "# 시간 주별로 묶기\n",
    "sales_academy['datetime'] = sales_academy['receipt_dttm'].apply(lambda x: pd.to_datetime(str(x), format='%Y%m%d'))\n",
    "sales_academy['all_new_num'] = 1 # 카운트를 위한 변수\n",
    "sales_academy.set_index(sales_academy['datetime'],inplace=True)\n",
    "sales_academy = sales_academy.drop('datetime',1)\n",
    "sales_academy.head()"
   ]
  },
  {
   "cell_type": "markdown",
   "metadata": {
    "pycharm": {
     "name": "#%% md\n"
    }
   },
   "source": [
    "### 주별 카드 결제량 합산\n",
    "결제량을 상정한 all_new_num 을 주별로 합산하였습니다."
   ]
  },
  {
   "cell_type": "code",
   "execution_count": 6,
   "metadata": {
    "pycharm": {
     "is_executing": true
    },
    "scrolled": true
   },
   "outputs": [
    {
     "name": "stdout",
     "output_type": "stream",
     "text": [
      "datetime\n",
      "2020-01-05     563\n",
      "2020-01-12    1783\n",
      "2020-01-19    1021\n",
      "2020-01-26    4434\n",
      "2020-02-02    7730\n",
      "2020-02-09    3800\n",
      "2020-02-16    3468\n",
      "2020-02-23    7792\n",
      "2020-03-01    5645\n",
      "2020-03-08    6723\n",
      "2020-03-15    6705\n",
      "2020-03-22    6481\n",
      "2020-03-29    6527\n",
      "2020-04-05    7432\n",
      "2020-04-12    7543\n",
      "2020-04-19    6756\n",
      "2020-04-26    7598\n",
      "2020-05-03    7666\n",
      "2020-05-10    8209\n",
      "2020-05-17    8281\n",
      "2020-05-24    8414\n",
      "2020-05-31    8679\n",
      "2020-06-07    8953\n",
      "2020-06-14    8361\n",
      "Freq: W-SUN, Name: all_new_num, dtype: int64\n"
     ]
    }
   ],
   "source": [
    "weekly_df = sales_academy.resample('W').sum() # 주별 결제량의 합\n",
    "counts = weekly_df['all_new_num']\n",
    "print(counts)"
   ]
  },
  {
   "cell_type": "markdown",
   "metadata": {
    "pycharm": {
     "name": "#%% md\n"
    }
   },
   "source": [
    "### 데이터 가공\n",
    "counts라는 주별 결제량 데이터를 추출하였으니 데이터를 가공하여 그래프로 나타내는 과정입니다.\n",
    "코로나 대량 확진 시기 이전과 이후를 iloc[]을 통해서 처리하였습니다."
   ]
  },
  {
   "cell_type": "code",
   "execution_count": 7,
   "metadata": {
    "pycharm": {
     "is_executing": true
    }
   },
   "outputs": [],
   "source": [
    "counts=pd.DataFrame(counts) # 데이터 전처리"
   ]
  },
  {
   "cell_type": "code",
   "execution_count": 8,
   "metadata": {
    "pycharm": {
     "is_executing": true
    }
   },
   "outputs": [
    {
     "data": {
      "text/html": [
       "<div>\n",
       "<style scoped>\n",
       "    .dataframe tbody tr th:only-of-type {\n",
       "        vertical-align: middle;\n",
       "    }\n",
       "\n",
       "    .dataframe tbody tr th {\n",
       "        vertical-align: top;\n",
       "    }\n",
       "\n",
       "    .dataframe thead th {\n",
       "        text-align: right;\n",
       "    }\n",
       "</style>\n",
       "<table border=\"1\" class=\"dataframe\">\n",
       "  <thead>\n",
       "    <tr style=\"text-align: right;\">\n",
       "      <th></th>\n",
       "      <th>all_new_num</th>\n",
       "    </tr>\n",
       "    <tr>\n",
       "      <th>datetime</th>\n",
       "      <th></th>\n",
       "    </tr>\n",
       "  </thead>\n",
       "  <tbody>\n",
       "    <tr>\n",
       "      <th>2020-01-05</th>\n",
       "      <td>563</td>\n",
       "    </tr>\n",
       "    <tr>\n",
       "      <th>2020-01-12</th>\n",
       "      <td>1783</td>\n",
       "    </tr>\n",
       "    <tr>\n",
       "      <th>2020-01-19</th>\n",
       "      <td>1021</td>\n",
       "    </tr>\n",
       "    <tr>\n",
       "      <th>2020-01-26</th>\n",
       "      <td>4434</td>\n",
       "    </tr>\n",
       "    <tr>\n",
       "      <th>2020-02-02</th>\n",
       "      <td>7730</td>\n",
       "    </tr>\n",
       "  </tbody>\n",
       "</table>\n",
       "</div>"
      ],
      "text/plain": [
       "            all_new_num\n",
       "datetime               \n",
       "2020-01-05          563\n",
       "2020-01-12         1783\n",
       "2020-01-19         1021\n",
       "2020-01-26         4434\n",
       "2020-02-02         7730"
      ]
     },
     "execution_count": 8,
     "metadata": {},
     "output_type": "execute_result"
    }
   ],
   "source": [
    "counts.head()"
   ]
  },
  {
   "cell_type": "code",
   "execution_count": 9,
   "metadata": {
    "pycharm": {
     "is_executing": true
    }
   },
   "outputs": [
    {
     "data": {
      "text/html": [
       "<div>\n",
       "<style scoped>\n",
       "    .dataframe tbody tr th:only-of-type {\n",
       "        vertical-align: middle;\n",
       "    }\n",
       "\n",
       "    .dataframe tbody tr th {\n",
       "        vertical-align: top;\n",
       "    }\n",
       "\n",
       "    .dataframe thead th {\n",
       "        text-align: right;\n",
       "    }\n",
       "</style>\n",
       "<table border=\"1\" class=\"dataframe\">\n",
       "  <thead>\n",
       "    <tr style=\"text-align: right;\">\n",
       "      <th></th>\n",
       "      <th>all_new_num</th>\n",
       "    </tr>\n",
       "    <tr>\n",
       "      <th>datetime</th>\n",
       "      <th></th>\n",
       "    </tr>\n",
       "  </thead>\n",
       "  <tbody>\n",
       "    <tr>\n",
       "      <th>2020-01-05</th>\n",
       "      <td>563</td>\n",
       "    </tr>\n",
       "    <tr>\n",
       "      <th>2020-01-12</th>\n",
       "      <td>1783</td>\n",
       "    </tr>\n",
       "    <tr>\n",
       "      <th>2020-01-19</th>\n",
       "      <td>1021</td>\n",
       "    </tr>\n",
       "    <tr>\n",
       "      <th>2020-01-26</th>\n",
       "      <td>4434</td>\n",
       "    </tr>\n",
       "    <tr>\n",
       "      <th>2020-02-02</th>\n",
       "      <td>7730</td>\n",
       "    </tr>\n",
       "    <tr>\n",
       "      <th>2020-02-09</th>\n",
       "      <td>3800</td>\n",
       "    </tr>\n",
       "    <tr>\n",
       "      <th>2020-02-16</th>\n",
       "      <td>3468</td>\n",
       "    </tr>\n",
       "    <tr>\n",
       "      <th>2020-02-23</th>\n",
       "      <td>7792</td>\n",
       "    </tr>\n",
       "  </tbody>\n",
       "</table>\n",
       "</div>"
      ],
      "text/plain": [
       "            all_new_num\n",
       "datetime               \n",
       "2020-01-05          563\n",
       "2020-01-12         1783\n",
       "2020-01-19         1021\n",
       "2020-01-26         4434\n",
       "2020-02-02         7730\n",
       "2020-02-09         3800\n",
       "2020-02-16         3468\n",
       "2020-02-23         7792"
      ]
     },
     "execution_count": 9,
     "metadata": {},
     "output_type": "execute_result"
    }
   ],
   "source": [
    "counts.iloc[0:8]"
   ]
  },
  {
   "cell_type": "code",
   "execution_count": 10,
   "metadata": {
    "pycharm": {
     "is_executing": true
    }
   },
   "outputs": [
    {
     "data": {
      "text/html": [
       "<div>\n",
       "<style scoped>\n",
       "    .dataframe tbody tr th:only-of-type {\n",
       "        vertical-align: middle;\n",
       "    }\n",
       "\n",
       "    .dataframe tbody tr th {\n",
       "        vertical-align: top;\n",
       "    }\n",
       "\n",
       "    .dataframe thead th {\n",
       "        text-align: right;\n",
       "    }\n",
       "</style>\n",
       "<table border=\"1\" class=\"dataframe\">\n",
       "  <thead>\n",
       "    <tr style=\"text-align: right;\">\n",
       "      <th></th>\n",
       "      <th>all_new_num</th>\n",
       "    </tr>\n",
       "    <tr>\n",
       "      <th>datetime</th>\n",
       "      <th></th>\n",
       "    </tr>\n",
       "  </thead>\n",
       "  <tbody>\n",
       "    <tr>\n",
       "      <th>2020-01-05</th>\n",
       "      <td>563</td>\n",
       "    </tr>\n",
       "    <tr>\n",
       "      <th>2020-01-12</th>\n",
       "      <td>1783</td>\n",
       "    </tr>\n",
       "    <tr>\n",
       "      <th>2020-01-19</th>\n",
       "      <td>1021</td>\n",
       "    </tr>\n",
       "    <tr>\n",
       "      <th>2020-01-26</th>\n",
       "      <td>4434</td>\n",
       "    </tr>\n",
       "    <tr>\n",
       "      <th>2020-02-02</th>\n",
       "      <td>7730</td>\n",
       "    </tr>\n",
       "    <tr>\n",
       "      <th>2020-02-09</th>\n",
       "      <td>3800</td>\n",
       "    </tr>\n",
       "    <tr>\n",
       "      <th>2020-02-16</th>\n",
       "      <td>3468</td>\n",
       "    </tr>\n",
       "  </tbody>\n",
       "</table>\n",
       "</div>"
      ],
      "text/plain": [
       "            all_new_num\n",
       "datetime               \n",
       "2020-01-05          563\n",
       "2020-01-12         1783\n",
       "2020-01-19         1021\n",
       "2020-01-26         4434\n",
       "2020-02-02         7730\n",
       "2020-02-09         3800\n",
       "2020-02-16         3468"
      ]
     },
     "execution_count": 10,
     "metadata": {},
     "output_type": "execute_result"
    }
   ],
   "source": [
    "counts_post = counts.iloc[0:7] # 코로나19 대량확진 이전\n",
    "counts_post"
   ]
  },
  {
   "cell_type": "code",
   "execution_count": 11,
   "metadata": {
    "pycharm": {
     "is_executing": true
    }
   },
   "outputs": [
    {
     "data": {
      "text/html": [
       "<div>\n",
       "<style scoped>\n",
       "    .dataframe tbody tr th:only-of-type {\n",
       "        vertical-align: middle;\n",
       "    }\n",
       "\n",
       "    .dataframe tbody tr th {\n",
       "        vertical-align: top;\n",
       "    }\n",
       "\n",
       "    .dataframe thead th {\n",
       "        text-align: right;\n",
       "    }\n",
       "</style>\n",
       "<table border=\"1\" class=\"dataframe\">\n",
       "  <thead>\n",
       "    <tr style=\"text-align: right;\">\n",
       "      <th></th>\n",
       "      <th>all_new_num</th>\n",
       "    </tr>\n",
       "    <tr>\n",
       "      <th>datetime</th>\n",
       "      <th></th>\n",
       "    </tr>\n",
       "  </thead>\n",
       "  <tbody>\n",
       "    <tr>\n",
       "      <th>2020-02-23</th>\n",
       "      <td>7792</td>\n",
       "    </tr>\n",
       "    <tr>\n",
       "      <th>2020-03-01</th>\n",
       "      <td>5645</td>\n",
       "    </tr>\n",
       "    <tr>\n",
       "      <th>2020-03-08</th>\n",
       "      <td>6723</td>\n",
       "    </tr>\n",
       "    <tr>\n",
       "      <th>2020-03-15</th>\n",
       "      <td>6705</td>\n",
       "    </tr>\n",
       "    <tr>\n",
       "      <th>2020-03-22</th>\n",
       "      <td>6481</td>\n",
       "    </tr>\n",
       "    <tr>\n",
       "      <th>2020-03-29</th>\n",
       "      <td>6527</td>\n",
       "    </tr>\n",
       "    <tr>\n",
       "      <th>2020-04-05</th>\n",
       "      <td>7432</td>\n",
       "    </tr>\n",
       "    <tr>\n",
       "      <th>2020-04-12</th>\n",
       "      <td>7543</td>\n",
       "    </tr>\n",
       "    <tr>\n",
       "      <th>2020-04-19</th>\n",
       "      <td>6756</td>\n",
       "    </tr>\n",
       "    <tr>\n",
       "      <th>2020-04-26</th>\n",
       "      <td>7598</td>\n",
       "    </tr>\n",
       "    <tr>\n",
       "      <th>2020-05-03</th>\n",
       "      <td>7666</td>\n",
       "    </tr>\n",
       "    <tr>\n",
       "      <th>2020-05-10</th>\n",
       "      <td>8209</td>\n",
       "    </tr>\n",
       "    <tr>\n",
       "      <th>2020-05-17</th>\n",
       "      <td>8281</td>\n",
       "    </tr>\n",
       "    <tr>\n",
       "      <th>2020-05-24</th>\n",
       "      <td>8414</td>\n",
       "    </tr>\n",
       "    <tr>\n",
       "      <th>2020-05-31</th>\n",
       "      <td>8679</td>\n",
       "    </tr>\n",
       "    <tr>\n",
       "      <th>2020-06-07</th>\n",
       "      <td>8953</td>\n",
       "    </tr>\n",
       "    <tr>\n",
       "      <th>2020-06-14</th>\n",
       "      <td>8361</td>\n",
       "    </tr>\n",
       "  </tbody>\n",
       "</table>\n",
       "</div>"
      ],
      "text/plain": [
       "            all_new_num\n",
       "datetime               \n",
       "2020-02-23         7792\n",
       "2020-03-01         5645\n",
       "2020-03-08         6723\n",
       "2020-03-15         6705\n",
       "2020-03-22         6481\n",
       "2020-03-29         6527\n",
       "2020-04-05         7432\n",
       "2020-04-12         7543\n",
       "2020-04-19         6756\n",
       "2020-04-26         7598\n",
       "2020-05-03         7666\n",
       "2020-05-10         8209\n",
       "2020-05-17         8281\n",
       "2020-05-24         8414\n",
       "2020-05-31         8679\n",
       "2020-06-07         8953\n",
       "2020-06-14         8361"
      ]
     },
     "execution_count": 11,
     "metadata": {},
     "output_type": "execute_result"
    }
   ],
   "source": [
    "counts_after = counts.iloc[7:] # 코로나19 대량확진 이후\n",
    "counts_after"
   ]
  },
  {
   "cell_type": "markdown",
   "metadata": {
    "pycharm": {
     "name": "#%% md\n"
    }
   },
   "source": [
    "### 교육 결제량 시각화\n",
    "matplotlib을 이용하여 교육관련 카드 결제량 데이터를 시각화하였습니다."
   ]
  },
  {
   "cell_type": "code",
   "execution_count": 12,
   "metadata": {
    "pycharm": {
     "is_executing": true
    },
    "scrolled": true
   },
   "outputs": [
    {
     "data": {
      "text/plain": [
       "<matplotlib.axes._subplots.AxesSubplot at 0x2101c0ca648>"
      ]
     },
     "execution_count": 12,
     "metadata": {},
     "output_type": "execute_result"
    },
    {
     "data": {
      "image/png": "[encoded data removed]",
      "text/plain": [
       "<Figure size 432x288 with 1 Axes>"
      ]
     },
     "metadata": {
      "needs_background": "light"
     },
     "output_type": "display_data"
    }
   ],
   "source": [
    "counts.plot(kind='bar')"
   ]
  },
  {
   "cell_type": "markdown",
   "metadata": {
    "pycharm": {
     "name": "#%% md\n"
    }
   },
   "source": [
    "## 교육 결제액 지역별 시각화\n",
    "\n",
    "card.csv의 salamt라는 카드 결제액을 지역별로 총합해서 시각화 하였습니다."
   ]
  },
  {
   "cell_type": "code",
   "execution_count": 13,
   "metadata": {
    "pycharm": {
     "is_executing": true
    }
   },
   "outputs": [
    {
     "data": {
      "text/html": [
       "<div>\n",
       "<style scoped>\n",
       "    .dataframe tbody tr th:only-of-type {\n",
       "        vertical-align: middle;\n",
       "    }\n",
       "\n",
       "    .dataframe tbody tr th {\n",
       "        vertical-align: top;\n",
       "    }\n",
       "\n",
       "    .dataframe thead th {\n",
       "        text-align: right;\n",
       "    }\n",
       "</style>\n",
       "<table border=\"1\" class=\"dataframe\">\n",
       "  <thead>\n",
       "    <tr style=\"text-align: right;\">\n",
       "      <th></th>\n",
       "      <th>receipt_dttm</th>\n",
       "      <th>adstrd_code</th>\n",
       "      <th>adstrd_nm</th>\n",
       "      <th>mrhst_induty_cl_code</th>\n",
       "      <th>mrhst_induty_cl_nm</th>\n",
       "      <th>selng_cascnt</th>\n",
       "      <th>salamt</th>\n",
       "      <th>all_new_num</th>\n",
       "      <th>sales</th>\n",
       "    </tr>\n",
       "    <tr>\n",
       "      <th>datetime</th>\n",
       "      <th></th>\n",
       "      <th></th>\n",
       "      <th></th>\n",
       "      <th></th>\n",
       "      <th></th>\n",
       "      <th></th>\n",
       "      <th></th>\n",
       "      <th></th>\n",
       "      <th></th>\n",
       "    </tr>\n",
       "  </thead>\n",
       "  <tbody>\n",
       "    <tr>\n",
       "      <th>2020-01-04</th>\n",
       "      <td>20200104</td>\n",
       "      <td>1174066000</td>\n",
       "      <td>성내3동</td>\n",
       "      <td>5105</td>\n",
       "      <td>보습학원</td>\n",
       "      <td>12</td>\n",
       "      <td>3876000</td>\n",
       "      <td>1</td>\n",
       "      <td>3876000</td>\n",
       "    </tr>\n",
       "    <tr>\n",
       "      <th>2020-01-04</th>\n",
       "      <td>20200104</td>\n",
       "      <td>1174064000</td>\n",
       "      <td>성내1동</td>\n",
       "      <td>5105</td>\n",
       "      <td>보습학원</td>\n",
       "      <td>10</td>\n",
       "      <td>3532000</td>\n",
       "      <td>1</td>\n",
       "      <td>3532000</td>\n",
       "    </tr>\n",
       "    <tr>\n",
       "      <th>2020-01-04</th>\n",
       "      <td>20200104</td>\n",
       "      <td>1174064000</td>\n",
       "      <td>성내1동</td>\n",
       "      <td>5104</td>\n",
       "      <td>예체능학원</td>\n",
       "      <td>9</td>\n",
       "      <td>1930000</td>\n",
       "      <td>1</td>\n",
       "      <td>1930000</td>\n",
       "    </tr>\n",
       "    <tr>\n",
       "      <th>2020-01-04</th>\n",
       "      <td>20200104</td>\n",
       "      <td>1174059000</td>\n",
       "      <td>암사3동</td>\n",
       "      <td>9305</td>\n",
       "      <td>학원(회원제형태)</td>\n",
       "      <td>33</td>\n",
       "      <td>8088600</td>\n",
       "      <td>1</td>\n",
       "      <td>8088600</td>\n",
       "    </tr>\n",
       "    <tr>\n",
       "      <th>2020-01-04</th>\n",
       "      <td>20200104</td>\n",
       "      <td>1174059000</td>\n",
       "      <td>암사3동</td>\n",
       "      <td>5105</td>\n",
       "      <td>보습학원</td>\n",
       "      <td>7</td>\n",
       "      <td>1630000</td>\n",
       "      <td>1</td>\n",
       "      <td>1630000</td>\n",
       "    </tr>\n",
       "    <tr>\n",
       "      <th>...</th>\n",
       "      <td>...</td>\n",
       "      <td>...</td>\n",
       "      <td>...</td>\n",
       "      <td>...</td>\n",
       "      <td>...</td>\n",
       "      <td>...</td>\n",
       "      <td>...</td>\n",
       "      <td>...</td>\n",
       "      <td>...</td>\n",
       "    </tr>\n",
       "    <tr>\n",
       "      <th>2020-06-14</th>\n",
       "      <td>20200614</td>\n",
       "      <td>1120065000</td>\n",
       "      <td>성수1가1동</td>\n",
       "      <td>5105</td>\n",
       "      <td>보습학원</td>\n",
       "      <td>4</td>\n",
       "      <td>337500</td>\n",
       "      <td>1</td>\n",
       "      <td>337500</td>\n",
       "    </tr>\n",
       "    <tr>\n",
       "      <th>2020-06-14</th>\n",
       "      <td>20200614</td>\n",
       "      <td>1121581000</td>\n",
       "      <td>광장동</td>\n",
       "      <td>5191</td>\n",
       "      <td>독서실</td>\n",
       "      <td>3</td>\n",
       "      <td>800000</td>\n",
       "      <td>1</td>\n",
       "      <td>800000</td>\n",
       "    </tr>\n",
       "    <tr>\n",
       "      <th>2020-06-14</th>\n",
       "      <td>20200614</td>\n",
       "      <td>1162063000</td>\n",
       "      <td>남현동</td>\n",
       "      <td>5104</td>\n",
       "      <td>예체능학원</td>\n",
       "      <td>2</td>\n",
       "      <td>250000</td>\n",
       "      <td>1</td>\n",
       "      <td>250000</td>\n",
       "    </tr>\n",
       "    <tr>\n",
       "      <th>2020-06-14</th>\n",
       "      <td>20200614</td>\n",
       "      <td>1120065000</td>\n",
       "      <td>성수1가1동</td>\n",
       "      <td>9305</td>\n",
       "      <td>학원(회원제형태)</td>\n",
       "      <td>1</td>\n",
       "      <td>630000</td>\n",
       "      <td>1</td>\n",
       "      <td>630000</td>\n",
       "    </tr>\n",
       "    <tr>\n",
       "      <th>2020-06-14</th>\n",
       "      <td>20200614</td>\n",
       "      <td>1150057000</td>\n",
       "      <td>화곡4동</td>\n",
       "      <td>5191</td>\n",
       "      <td>독서실</td>\n",
       "      <td>1</td>\n",
       "      <td>6000</td>\n",
       "      <td>1</td>\n",
       "      <td>6000</td>\n",
       "    </tr>\n",
       "  </tbody>\n",
       "</table>\n",
       "<p>150564 rows × 9 columns</p>\n",
       "</div>"
      ],
      "text/plain": [
       "            receipt_dttm  adstrd_code adstrd_nm  mrhst_induty_cl_code  \\\n",
       "datetime                                                                \n",
       "2020-01-04      20200104   1174066000      성내3동                  5105   \n",
       "2020-01-04      20200104   1174064000      성내1동                  5105   \n",
       "2020-01-04      20200104   1174064000      성내1동                  5104   \n",
       "2020-01-04      20200104   1174059000      암사3동                  9305   \n",
       "2020-01-04      20200104   1174059000      암사3동                  5105   \n",
       "...                  ...          ...       ...                   ...   \n",
       "2020-06-14      20200614   1120065000    성수1가1동                  5105   \n",
       "2020-06-14      20200614   1121581000       광장동                  5191   \n",
       "2020-06-14      20200614   1162063000       남현동                  5104   \n",
       "2020-06-14      20200614   1120065000    성수1가1동                  9305   \n",
       "2020-06-14      20200614   1150057000      화곡4동                  5191   \n",
       "\n",
       "           mrhst_induty_cl_nm selng_cascnt   salamt  all_new_num    sales  \n",
       "datetime                                                                   \n",
       "2020-01-04               보습학원           12  3876000            1  3876000  \n",
       "2020-01-04               보습학원           10  3532000            1  3532000  \n",
       "2020-01-04              예체능학원            9  1930000            1  1930000  \n",
       "2020-01-04          학원(회원제형태)           33  8088600            1  8088600  \n",
       "2020-01-04               보습학원            7  1630000            1  1630000  \n",
       "...                       ...          ...      ...          ...      ...  \n",
       "2020-06-14               보습학원            4   337500            1   337500  \n",
       "2020-06-14                독서실            3   800000            1   800000  \n",
       "2020-06-14              예체능학원            2   250000            1   250000  \n",
       "2020-06-14          학원(회원제형태)            1   630000            1   630000  \n",
       "2020-06-14                독서실            1     6000            1     6000  \n",
       "\n",
       "[150564 rows x 9 columns]"
      ]
     },
     "execution_count": 13,
     "metadata": {},
     "output_type": "execute_result"
    }
   ],
   "source": [
    "sales_academy['sales'] = pd.to_numeric(sales_academy['salamt'])\n",
    "sales_academy"
   ]
  },
  {
   "cell_type": "code",
   "execution_count": 14,
   "metadata": {
    "pycharm": {
     "is_executing": true,
     "name": "#%%\n"
    }
   },
   "outputs": [],
   "source": [
    "address_lists = expense['adstrd_nm'].unique()[:] # 서울 지역 확인"
   ]
  },
  {
   "cell_type": "code",
   "execution_count": 15,
   "metadata": {
    "pycharm": {
     "is_executing": true
    }
   },
   "outputs": [
    {
     "data": {
      "text/html": [
       "<div>\n",
       "<style scoped>\n",
       "    .dataframe tbody tr th:only-of-type {\n",
       "        vertical-align: middle;\n",
       "    }\n",
       "\n",
       "    .dataframe tbody tr th {\n",
       "        vertical-align: top;\n",
       "    }\n",
       "\n",
       "    .dataframe thead th {\n",
       "        text-align: right;\n",
       "    }\n",
       "</style>\n",
       "<table border=\"1\" class=\"dataframe\">\n",
       "  <thead>\n",
       "    <tr style=\"text-align: right;\">\n",
       "      <th></th>\n",
       "      <th>sales</th>\n",
       "    </tr>\n",
       "    <tr>\n",
       "      <th>adstrd_nm</th>\n",
       "      <th></th>\n",
       "    </tr>\n",
       "  </thead>\n",
       "  <tbody>\n",
       "    <tr>\n",
       "      <th>가락1동</th>\n",
       "      <td>29644670</td>\n",
       "    </tr>\n",
       "    <tr>\n",
       "      <th>가락2동</th>\n",
       "      <td>654132087</td>\n",
       "    </tr>\n",
       "    <tr>\n",
       "      <th>가락본동</th>\n",
       "      <td>224378030</td>\n",
       "    </tr>\n",
       "    <tr>\n",
       "      <th>가리봉동</th>\n",
       "      <td>9120000</td>\n",
       "    </tr>\n",
       "    <tr>\n",
       "      <th>가산동</th>\n",
       "      <td>413101084</td>\n",
       "    </tr>\n",
       "    <tr>\n",
       "      <th>...</th>\n",
       "      <td>...</td>\n",
       "    </tr>\n",
       "    <tr>\n",
       "      <th>효창동</th>\n",
       "      <td>78791820</td>\n",
       "    </tr>\n",
       "    <tr>\n",
       "      <th>후암동</th>\n",
       "      <td>54562200</td>\n",
       "    </tr>\n",
       "    <tr>\n",
       "      <th>휘경1동</th>\n",
       "      <td>121329130</td>\n",
       "    </tr>\n",
       "    <tr>\n",
       "      <th>휘경2동</th>\n",
       "      <td>351355625</td>\n",
       "    </tr>\n",
       "    <tr>\n",
       "      <th>흑석동</th>\n",
       "      <td>156821740</td>\n",
       "    </tr>\n",
       "  </tbody>\n",
       "</table>\n",
       "<p>423 rows × 1 columns</p>\n",
       "</div>"
      ],
      "text/plain": [
       "               sales\n",
       "adstrd_nm           \n",
       "가락1동        29644670\n",
       "가락2동       654132087\n",
       "가락본동       224378030\n",
       "가리봉동         9120000\n",
       "가산동        413101084\n",
       "...              ...\n",
       "효창동         78791820\n",
       "후암동         54562200\n",
       "휘경1동       121329130\n",
       "휘경2동       351355625\n",
       "흑석동        156821740\n",
       "\n",
       "[423 rows x 1 columns]"
      ]
     },
     "execution_count": 15,
     "metadata": {},
     "output_type": "execute_result"
    }
   ],
   "source": [
    "region = pd.DataFrame(sales_academy.groupby(['adstrd_nm'])['sales'].sum()) # 지역별 교육 매출액 총합\n",
    "region"
   ]
  },
  {
   "cell_type": "markdown",
   "metadata": {
    "pycharm": {
     "name": "#%% md\n"
    }
   },
   "source": [
    "### 서울 지역별 교육 지출비용 시각화\n",
    "\n",
    "region에 지역별 카드 매출액을 저장하였습니다. 이를 시각화하기위해 우선 정렬을 하고 상위 10개와 하위 10개\n",
    "를 나누어서 시각화 하였습니다."
   ]
  },
  {
   "cell_type": "code",
   "execution_count": 16,
   "metadata": {
    "pycharm": {
     "is_executing": true
    }
   },
   "outputs": [],
   "source": [
    "region.sort_values(ascending=True,by = 'sales',inplace=True)"
   ]
  },
  {
   "cell_type": "code",
   "execution_count": 17,
   "metadata": {
    "pycharm": {
     "is_executing": true
    }
   },
   "outputs": [
    {
     "data": {
      "text/plain": [
       "<matplotlib.axes._subplots.AxesSubplot at 0x2101f628c08>"
      ]
     },
     "execution_count": 17,
     "metadata": {},
     "output_type": "execute_result"
    },
    {
     "data": {
      "image/png": "[encoded data removed]",
      "text/plain": [
       "<Figure size 432x288 with 1 Axes>"
      ]
     },
     "metadata": {
      "needs_background": "light"
     },
     "output_type": "display_data"
    }
   ],
   "source": [
    "region.tail(10).plot(kind='barh')"
   ]
  },
  {
   "cell_type": "code",
   "execution_count": 18,
   "metadata": {
    "pycharm": {
     "is_executing": true
    }
   },
   "outputs": [
    {
     "data": {
      "text/plain": [
       "<matplotlib.axes._subplots.AxesSubplot at 0x2101f69fec8>"
      ]
     },
     "execution_count": 18,
     "metadata": {},
     "output_type": "execute_result"
    },
    {
     "data": {
      "image/png": "[encoded data removed]",
      "text/plain": [
       "<Figure size 432x288 with 1 Axes>"
      ]
     },
     "metadata": {
      "needs_background": "light"
     },
     "output_type": "display_data"
    }
   ],
   "source": [
    "region.head(10).plot(kind='barh')"
   ]
  },
  {
   "cell_type": "code",
   "execution_count": 19,
   "metadata": {
    "pycharm": {
     "is_executing": true
    }
   },
   "outputs": [],
   "source": [
    "region.to_csv('region.csv')"
   ]
  },
  {
   "cell_type": "code",
   "execution_count": 20,
   "metadata": {
    "pycharm": {
     "is_executing": true
    }
   },
   "outputs": [],
   "source": [
    "counts_post.to_csv('counts_post.csv')"
   ]
  },
  {
   "cell_type": "code",
   "execution_count": 21,
   "metadata": {
    "pycharm": {
     "is_executing": true,
     "name": "#%%\n"
    }
   },
   "outputs": [],
   "source": [
    "counts_after.to_csv('counts_after.csv')"
   ]
  },
  {
   "cell_type": "markdown",
   "metadata": {
    "pycharm": {
     "name": "#%% md\n"
    }
   },
   "source": [
    "# 분석 결과\n",
    "\n",
    "1. 코로나 19 확진자수에 따른 교육비 지출량을 분석한 결과 코로나 19 바이러스에도 불구하고 서울지역의 사교육비 지출 빈도는 오히려 늘어났지 감소하지 않았습니다.\n",
    "오히려 학교의 공백에 대한 특수를 맞아 사교육의 중요성이 더욱 부각되었습니다.\n",
    "2. 비대면 교육으로 인해 온라인 강의가 부각될것이란 예상과는 다르게 오히려 대치동 학원가의 매출액은 다른\n",
    "서울 지역에 비해 편중된 결과를 보여줍니다. 이는 서울지역의 학생들이 온라인 강의보다는 현장강의를 선호하는\n",
    "것으로 보여줍니다.\n",
    "3. 카드 결제에 잡히지 않는 과외에 대한 매출액은 알 수 없던것이 아쉽습니다."
   ]
  },
  {
   "cell_type": "code",
   "execution_count": 22,
   "metadata": {
    "pycharm": {
     "is_executing": true,
     "name": "#%%\n"
    }
   },
   "outputs": [],
   "source": [
    "# 지도 시각화 고고\n"
   ]
  }
 ],
 "metadata": {
  "kernelspec": {
   "display_name": "PyCharm (Post_COVID_Dacon)",
   "language": "python",
   "name": "pycharm-13db0253"
  },
  "language_info": {
   "codemirror_mode": {
    "name": "ipython",
    "version": 3
   },
   "file_extension": ".py",
   "mimetype": "text/x-python",
   "name": "python",
   "nbconvert_exporter": "python",
   "pygments_lexer": "ipython3",
   "version": "3.7.6"
  }
 },
 "nbformat": 4,
 "nbformat_minor": 1
}
